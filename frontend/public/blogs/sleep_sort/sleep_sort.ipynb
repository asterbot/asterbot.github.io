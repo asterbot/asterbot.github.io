{
 "cells": [
  {
   "cell_type": "code",
   "execution_count": 2,
   "metadata": {},
   "outputs": [],
   "source": [
    "import threading\n",
    "from time import sleep, perf_counter"
   ]
  },
  {
   "cell_type": "markdown",
   "metadata": {},
   "source": [
    "# The innacuracy of `sleep`"
   ]
  },
  {
   "cell_type": "code",
   "execution_count": 67,
   "metadata": {},
   "outputs": [
    {
     "name": "stdout",
     "output_type": "stream",
     "text": [
      "9e-05\n",
      "5e-05\n"
     ]
    }
   ],
   "source": [
    "def sleep_and_print(t: int):\n",
    "    \"\"\"Sleep t seconds and print\"\"\"\n",
    "    sleep(t)\n",
    "    print(t)\n",
    "\n",
    "t1 = threading.Thread(target=sleep_and_print, args=(0.00005,))\n",
    "t2 = threading.Thread(target=sleep_and_print, args=(0.00009,))\n",
    "\n",
    "t1.start()\n",
    "t2.start()"
   ]
  },
  {
   "cell_type": "markdown",
   "metadata": {},
   "source": [
    "Look at the wrong order here! `0.00009` printed before `0.00005` even though it is a longer wait! \n",
    "\n",
    "Another fun problem is that when the sleep times are lower than milliseconds, the code becomes **non-deterministic** since the scheduler choses threads to run based on an arbitrary scheduling algorithm - so the order in which the threads run is up to the OS scheduler and not the actual values :("
   ]
  },
  {
   "cell_type": "markdown",
   "metadata": {},
   "source": [
    "# Sleep Sort"
   ]
  },
  {
   "cell_type": "code",
   "execution_count": 5,
   "metadata": {},
   "outputs": [],
   "source": [
    "## Helper function\n",
    "def add_item_after_sleep(arr: list[int], item: int, timeout: int):\n",
    "    \"\"\"Adds `item` to `arr` after sleeping for `timeout` seconds\"\"\"\n",
    "    sleep(timeout)\n",
    "    arr.append(item)"
   ]
  },
  {
   "cell_type": "code",
   "execution_count": 4,
   "metadata": {},
   "outputs": [],
   "source": [
    "def sleep_sort(L: list[int]) -> list[int]:\n",
    "    \"\"\"Performs sleep sort on L which is an array of *non-negative* integers\"\"\"\n",
    "    to_ret = []\n",
    "    \n",
    "    threads: list[threading.Thread] = []\n",
    "\n",
    "    for item in L:   # .... looks O(n)??\n",
    "        t = threading.Thread(target=add_item_after_sleep, args=(to_ret, item, item))\n",
    "        threads.append(t)\n",
    "        t.start()\n",
    "    \n",
    "    for t in threads:\n",
    "        t.join()\n",
    "    \n",
    "    return to_ret"
   ]
  },
  {
   "cell_type": "code",
   "execution_count": 69,
   "metadata": {},
   "outputs": [
    {
     "data": {
      "text/plain": [
       "[1, 2, 3, 4, 5]"
      ]
     },
     "execution_count": 69,
     "metadata": {},
     "output_type": "execute_result"
    }
   ],
   "source": [
    "sleep_sort([5,3,1,2,4])"
   ]
  },
  {
   "cell_type": "markdown",
   "metadata": {},
   "source": [
    "## Scaled sleep sort"
   ]
  },
  {
   "cell_type": "code",
   "execution_count": null,
   "metadata": {},
   "outputs": [],
   "source": [
    "def scaled_sleep_sort(L: list[int]) -> list[int]:\n",
    "    \"\"\"Performs sleep sort where the sleep times of elements are scaled by max(L)\"\"\"\n",
    "    to_ret = []\n",
    "    \n",
    "    threads: list[threading.Thread] = []\n",
    "\n",
    "    max_item = max(L)  # scale all values down by this so that every sleep is in [0,1]\n",
    "\n",
    "    for item in L:\n",
    "        t = threading.Thread(target=add_item_after_sleep, args=(to_ret, item, item / max_item))\n",
    "        threads.append(t)\n",
    "        t.start()\n",
    "    \n",
    "    for t in threads:\n",
    "        t.join()\n",
    "    \n",
    "    return to_ret"
   ]
  },
  {
   "cell_type": "code",
   "execution_count": 80,
   "metadata": {},
   "outputs": [
    {
     "data": {
      "text/plain": [
       "[1, 2, 3, 4, 5]"
      ]
     },
     "execution_count": 80,
     "metadata": {},
     "output_type": "execute_result"
    }
   ],
   "source": [
    "# An example which works (where the lowest sleep is >1ms)\n",
    "scaled_sleep_sort([5,3,1,2,4])"
   ]
  },
  {
   "cell_type": "code",
   "execution_count": 94,
   "metadata": {},
   "outputs": [
    {
     "data": {
      "text/plain": [
       "[6, 3, 10000]"
      ]
     },
     "execution_count": 94,
     "metadata": {},
     "output_type": "execute_result"
    }
   ],
   "source": [
    "# An example which fails (where the lowest sleep is <1ms)\n",
    "scaled_sleep_sort([10000, 6, 3])\n",
    "\n",
    "# here the delays should have been 1, 0.0006 and 0.0003, but 6 got added before 3!"
   ]
  },
  {
   "cell_type": "markdown",
   "metadata": {},
   "source": [
    "Mathematically, for `scaled_sleep_sort` to work correctly we require that:\n",
    "$$\n",
    "\\dfrac{\\min(L)}{\\max(L)} > 0.001\n",
    "$$\n",
    "\n",
    "ie. the ratio of the highest and lowest elements of $L$ must be less than 0.001 (which is 1ms). This is the only condition in which we can guarantee correctness"
   ]
  },
  {
   "cell_type": "markdown",
   "metadata": {},
   "source": [
    "# Comparing run times"
   ]
  },
  {
   "cell_type": "code",
   "execution_count": 8,
   "metadata": {},
   "outputs": [
    {
     "name": "stdout",
     "output_type": "stream",
     "text": [
      "In-built sort result: [1, 2, 3, 4, 5]\n",
      "In-built sort time: 0.00015250200158334337\n",
      "\n",
      "Sleep sort result: [1, 2, 3, 4, 5]\n",
      "Sleep sort time: 5.006125771997176\n",
      "\n",
      "Scaled sleep sort result: [1, 2, 3, 4, 5]\n",
      "Scaled sleep sort time: 1.0028352759982226\n"
     ]
    }
   ],
   "source": [
    "## Measuring pythons in-built sorted function\n",
    "start = perf_counter()\n",
    "print(\"In-built sort result:\", sorted([5,3,1,2,4]))\n",
    "print(\"In-built sort time:\", perf_counter() - start)\n",
    "\n",
    "print()\n",
    "\n",
    "## Measuring sleep_sort\n",
    "start = perf_counter()\n",
    "print(\"Sleep sort result:\", sleep_sort([5,3,1,2,4]))\n",
    "print(\"Sleep sort time:\", perf_counter() - start)\n",
    "\n",
    "print()\n",
    "\n",
    "## Measuring scaled_sleep_sort for values where it can work (ie. max(L)/min(L) < 0.001)\n",
    "start = perf_counter()\n",
    "print(\"Scaled sleep sort result:\", scaled_sleep_sort([5,3,1,2,4]))\n",
    "print(\"Scaled sleep sort time:\", perf_counter() - start)"
   ]
  },
  {
   "cell_type": "markdown",
   "metadata": {},
   "source": [
    "Even in the cases where the scaled down sleep sort works, its too slow compared to any good comparison sorting algorithm! \n",
    "\n",
    "**This defeats any practicality of it :(**"
   ]
  }
 ],
 "metadata": {
  "kernelspec": {
   "display_name": "Python 3",
   "language": "python",
   "name": "python3"
  },
  "language_info": {
   "codemirror_mode": {
    "name": "ipython",
    "version": 3
   },
   "file_extension": ".py",
   "mimetype": "text/x-python",
   "name": "python",
   "nbconvert_exporter": "python",
   "pygments_lexer": "ipython3",
   "version": "3.10.12"
  }
 },
 "nbformat": 4,
 "nbformat_minor": 2
}
